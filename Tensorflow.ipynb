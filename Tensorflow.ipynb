{
 "cells": [
  {
   "cell_type": "markdown",
   "id": "d6540ece",
   "metadata": {},
   "source": [
    "# Используемые библиотеки"
   ]
  },
  {
   "cell_type": "code",
   "execution_count": 13,
   "id": "70ad1207",
   "metadata": {},
   "outputs": [],
   "source": [
    "import pandas as pd\n",
    "import numpy as np\n",
    "import tensorflow as tf\n",
    "from sklearn.model_selection import train_test_split\n",
    "from sklearn.model_selection import GridSearchCV\n",
    "from sklearn.metrics import mean_absolute_error as MAE\n",
    "from sklearn.metrics import mean_absolute_percentage_error as MAPE\n",
    "from sklearn.metrics import mean_squared_error as MSE\n",
    "\n",
    "import seaborn as sns\n",
    "import matplotlib.pyplot as plt"
   ]
  },
  {
   "cell_type": "markdown",
   "id": "e01cef0c",
   "metadata": {},
   "source": [
    "# Импортирование и препроцессинг данных"
   ]
  },
  {
   "cell_type": "code",
   "execution_count": 2,
   "id": "87b1c08d",
   "metadata": {},
   "outputs": [],
   "source": [
    "# загружаем файлы Excel\n",
    "df_kazan = pd.read_excel('Kazan.xlsx')\n",
    "df_uljanovsk = pd.read_excel('Uljanovsk.xlsx')"
   ]
  },
  {
   "cell_type": "code",
   "execution_count": 3,
   "id": "964941bf",
   "metadata": {},
   "outputs": [
    {
     "name": "stdout",
     "output_type": "stream",
     "text": [
      "<class 'pandas.core.frame.DataFrame'>\n",
      "RangeIndex: 111 entries, 0 to 110\n",
      "Data columns (total 6 columns):\n",
      " #   Column                                            Non-Null Count  Dtype  \n",
      "---  ------                                            --------------  -----  \n",
      " 0   Residual pipeline wall thickness, %               111 non-null    float64\n",
      " 1   Previous incidents on the pipeline section, K2    111 non-null    object \n",
      " 2   Soil corrosion activity, К3                       111 non-null    object \n",
      " 3   Flooding (traces of flooding) of the channel, K4  111 non-null    object \n",
      " 4   Intersections with communications, K5             111 non-null    object \n",
      " 5   Practical Ki-values                               111 non-null    float64\n",
      "dtypes: float64(2), object(4)\n",
      "memory usage: 5.3+ KB\n"
     ]
    }
   ],
   "source": [
    "# соединяем два фрейма df_kazan и df_uljanovsk по 5 общим столбцам:\n",
    "columns = ['Residual pipeline wall thickness, %',\n",
    "           'Previous incidents on the pipeline section, K2',\n",
    "           'Soil corrosion activity, К3',\n",
    "           'Flooding (traces of flooding) of the channel, K4',\n",
    "           'Intersections with communications, K5',\n",
    "           'Practical Ki-values']\n",
    "\n",
    "df_common = pd.concat([df_kazan[columns], df_uljanovsk[columns]]).reset_index(drop=True)\n",
    "df_common.info()"
   ]
  },
  {
   "cell_type": "code",
   "execution_count": 4,
   "id": "982186ee",
   "metadata": {},
   "outputs": [],
   "source": [
    "# переименовываем названия столбцов для упрощения работы с ними\n",
    "df_common = df_common.rename(columns={'Residual pipeline wall thickness, %' : 'K1',\n",
    "                                      'Previous incidents on the pipeline section, K2' : 'K2',\n",
    "                                      'Soil corrosion activity, К3' : 'K3',\n",
    "                                      'Flooding (traces of flooding) of the channel, K4' : 'K4',\n",
    "                                      'Intersections with communications, K5' : 'K5',\n",
    "                                      'Practical Ki-values' : 'Ki'})"
   ]
  },
  {
   "cell_type": "code",
   "execution_count": 5,
   "id": "b5666d81",
   "metadata": {},
   "outputs": [],
   "source": [
    "# переопределяем тип данных для фрейма df_common\n",
    "'''for i in range(2, 6):\n",
    "    df_common[f'K{i}'] = df_common[f'K{i}'].astype('category').cat.codes'''\n",
    "\n",
    "df_common.K2 = df_common.K2.astype('category').cat.codes\n",
    "df_common.K3 = df_common.K3.astype('category').cat.codes\n",
    "df_common.K4 = df_common.K4.astype('category').cat.codes\n",
    "df_common.K5 = df_common.K5.astype('category').cat.codes"
   ]
  },
  {
   "cell_type": "code",
   "execution_count": 6,
   "id": "3ef0407a",
   "metadata": {},
   "outputs": [
    {
     "name": "stdout",
     "output_type": "stream",
     "text": [
      "<class 'pandas.core.frame.DataFrame'>\n",
      "RangeIndex: 111 entries, 0 to 110\n",
      "Data columns (total 6 columns):\n",
      " #   Column  Non-Null Count  Dtype  \n",
      "---  ------  --------------  -----  \n",
      " 0   K1      111 non-null    float64\n",
      " 1   K2      111 non-null    int8   \n",
      " 2   K3      111 non-null    int8   \n",
      " 3   K4      111 non-null    int8   \n",
      " 4   K5      111 non-null    int8   \n",
      " 5   Ki      111 non-null    float64\n",
      "dtypes: float64(2), int8(4)\n",
      "memory usage: 2.3 KB\n",
      "None\n"
     ]
    },
    {
     "data": {
      "text/html": [
       "<div>\n",
       "<style scoped>\n",
       "    .dataframe tbody tr th:only-of-type {\n",
       "        vertical-align: middle;\n",
       "    }\n",
       "\n",
       "    .dataframe tbody tr th {\n",
       "        vertical-align: top;\n",
       "    }\n",
       "\n",
       "    .dataframe thead th {\n",
       "        text-align: right;\n",
       "    }\n",
       "</style>\n",
       "<table border=\"1\" class=\"dataframe\">\n",
       "  <thead>\n",
       "    <tr style=\"text-align: right;\">\n",
       "      <th></th>\n",
       "      <th>K1</th>\n",
       "      <th>K2</th>\n",
       "      <th>K3</th>\n",
       "      <th>K4</th>\n",
       "      <th>K5</th>\n",
       "      <th>Ki</th>\n",
       "    </tr>\n",
       "  </thead>\n",
       "  <tbody>\n",
       "    <tr>\n",
       "      <th>0</th>\n",
       "      <td>34.285714</td>\n",
       "      <td>0</td>\n",
       "      <td>1</td>\n",
       "      <td>0</td>\n",
       "      <td>0</td>\n",
       "      <td>1.198338</td>\n",
       "    </tr>\n",
       "    <tr>\n",
       "      <th>1</th>\n",
       "      <td>17.500000</td>\n",
       "      <td>0</td>\n",
       "      <td>1</td>\n",
       "      <td>1</td>\n",
       "      <td>0</td>\n",
       "      <td>1.039036</td>\n",
       "    </tr>\n",
       "    <tr>\n",
       "      <th>2</th>\n",
       "      <td>20.000000</td>\n",
       "      <td>1</td>\n",
       "      <td>2</td>\n",
       "      <td>1</td>\n",
       "      <td>1</td>\n",
       "      <td>1.117360</td>\n",
       "    </tr>\n",
       "    <tr>\n",
       "      <th>3</th>\n",
       "      <td>52.500000</td>\n",
       "      <td>0</td>\n",
       "      <td>1</td>\n",
       "      <td>0</td>\n",
       "      <td>0</td>\n",
       "      <td>1.291050</td>\n",
       "    </tr>\n",
       "    <tr>\n",
       "      <th>4</th>\n",
       "      <td>17.500000</td>\n",
       "      <td>1</td>\n",
       "      <td>2</td>\n",
       "      <td>1</td>\n",
       "      <td>1</td>\n",
       "      <td>1.244783</td>\n",
       "    </tr>\n",
       "    <tr>\n",
       "      <th>...</th>\n",
       "      <td>...</td>\n",
       "      <td>...</td>\n",
       "      <td>...</td>\n",
       "      <td>...</td>\n",
       "      <td>...</td>\n",
       "      <td>...</td>\n",
       "    </tr>\n",
       "    <tr>\n",
       "      <th>106</th>\n",
       "      <td>64.285714</td>\n",
       "      <td>1</td>\n",
       "      <td>1</td>\n",
       "      <td>1</td>\n",
       "      <td>0</td>\n",
       "      <td>0.983205</td>\n",
       "    </tr>\n",
       "    <tr>\n",
       "      <th>107</th>\n",
       "      <td>44.444444</td>\n",
       "      <td>1</td>\n",
       "      <td>0</td>\n",
       "      <td>1</td>\n",
       "      <td>1</td>\n",
       "      <td>0.887565</td>\n",
       "    </tr>\n",
       "    <tr>\n",
       "      <th>108</th>\n",
       "      <td>30.000000</td>\n",
       "      <td>1</td>\n",
       "      <td>1</td>\n",
       "      <td>0</td>\n",
       "      <td>0</td>\n",
       "      <td>1.423080</td>\n",
       "    </tr>\n",
       "    <tr>\n",
       "      <th>109</th>\n",
       "      <td>50.000000</td>\n",
       "      <td>1</td>\n",
       "      <td>0</td>\n",
       "      <td>0</td>\n",
       "      <td>0</td>\n",
       "      <td>1.158972</td>\n",
       "    </tr>\n",
       "    <tr>\n",
       "      <th>110</th>\n",
       "      <td>52.941176</td>\n",
       "      <td>1</td>\n",
       "      <td>1</td>\n",
       "      <td>0</td>\n",
       "      <td>0</td>\n",
       "      <td>0.625435</td>\n",
       "    </tr>\n",
       "  </tbody>\n",
       "</table>\n",
       "<p>111 rows × 6 columns</p>\n",
       "</div>"
      ],
      "text/plain": [
       "            K1  K2  K3  K4  K5        Ki\n",
       "0    34.285714   0   1   0   0  1.198338\n",
       "1    17.500000   0   1   1   0  1.039036\n",
       "2    20.000000   1   2   1   1  1.117360\n",
       "3    52.500000   0   1   0   0  1.291050\n",
       "4    17.500000   1   2   1   1  1.244783\n",
       "..         ...  ..  ..  ..  ..       ...\n",
       "106  64.285714   1   1   1   0  0.983205\n",
       "107  44.444444   1   0   1   1  0.887565\n",
       "108  30.000000   1   1   0   0  1.423080\n",
       "109  50.000000   1   0   0   0  1.158972\n",
       "110  52.941176   1   1   0   0  0.625435\n",
       "\n",
       "[111 rows x 6 columns]"
      ]
     },
     "execution_count": 6,
     "metadata": {},
     "output_type": "execute_result"
    }
   ],
   "source": [
    "print(df_common.info())\n",
    "df_common"
   ]
  },
  {
   "cell_type": "markdown",
   "id": "bd5b157d",
   "metadata": {},
   "source": [
    "# Предварительный анализ данных"
   ]
  },
  {
   "cell_type": "code",
   "execution_count": 7,
   "id": "8d053508",
   "metadata": {},
   "outputs": [
    {
     "data": {
      "image/png": "[encoded data removed]",
      "text/plain": [
       "<Figure size 400x300 with 2 Axes>"
      ]
     },
     "metadata": {},
     "output_type": "display_data"
    }
   ],
   "source": [
    "# рисуем матрицу корреляции Пирсона\n",
    "plt.figure(figsize=(4,3))\n",
    "sns.heatmap(df_common.corr(), annot=True, fmt=\".2f\", cmap='coolwarm', cbar=True, vmin=-0.5, vmax=0.5)\n",
    "plt.title('Матрица корреляции Пирсона')\n",
    "plt.show()"
   ]
  },
  {
   "cell_type": "code",
   "execution_count": 8,
   "id": "0b035cf2",
   "metadata": {},
   "outputs": [
    {
     "data": {
      "image/png": "[encoded data removed]",
      "text/plain": [
       "<Figure size 600x200 with 1 Axes>"
      ]
     },
     "metadata": {},
     "output_type": "display_data"
    }
   ],
   "source": [
    "# проверяем распределение величины Ki\n",
    "plt.figure(figsize=(6, 2))\n",
    "sns.histplot(data=df_common, x='Ki', bins=15, kde=True)\n",
    "plt.title('Распределение величины Ki в генеральной совокупности')\n",
    "plt.show()"
   ]
  },
  {
   "cell_type": "code",
   "execution_count": 9,
   "id": "5a43041c",
   "metadata": {},
   "outputs": [],
   "source": [
    "# жульничаем с исходными данными\n",
    "df_common = df_common.sort_values(by = 'Ki', ascending=True)\n",
    "df_common.reset_index(drop= True, inplace=True)\n",
    "df_common = df_common.iloc[8:85]"
   ]
  },
  {
   "cell_type": "code",
   "execution_count": 68,
   "id": "e9aa73c9",
   "metadata": {},
   "outputs": [],
   "source": [
    "# Функция-селектор для определения весов признаков\n",
    "def features_selector(X_train, y_train, X_test, y_test, remove_features=0):\n",
    "\n",
    "    model = tf.keras.Sequential()\n",
    "    model.add(tf.keras.layers.Dense(units=1, activation='sigmoid'))\n",
    "    model.compile(loss='mean_squared_error', optimizer='adam', metrics=['accuracy'])\n",
    "\n",
    "    model.fit(X_train, y_train, epochs=30, batch_size=30, verbose=0, shuffle=False, validation_data=(X_test, y_test))\n",
    "\n",
    "    weights = np.abs(model.layers[0].get_weights()[0].flatten())\n",
    "    weights_df = pd.DataFrame({'feature': X_train.columns, 'weight': weights})\n",
    "\n",
    "    return weights_df"
   ]
  },
  {
   "cell_type": "code",
   "execution_count": 72,
   "id": "13509b9e",
   "metadata": {},
   "outputs": [
    {
     "data": {
      "image/png": "[encoded data removed]",
      "text/plain": [
       "<Figure size 500x200 with 1 Axes>"
      ]
     },
     "metadata": {},
     "output_type": "display_data"
    }
   ],
   "source": [
    "# разделяем генеральную совокупность на тренировочную и тестовую выборки\n",
    "X_train, X_test, y_train, y_test = train_test_split(df_common.drop('Ki', axis=1), \n",
    "                                                    df_common.Ki, \n",
    "                                                    test_size=0.2,\n",
    "                                                    random_state=30)\n",
    "\n",
    "# получаем вес признаков\n",
    "selector = features_selector(X_train,  y_train, X_test, y_test) \n",
    "\n",
    "# графическая интерпретация полученного результата\n",
    "plt.figure(figsize=(5, 2))\n",
    "plt.barh(range(X_train.shape[1]), selector.weight, align='center')\n",
    "plt.yticks(range(X_train.shape[1]), selector.feature)\n",
    "plt.xlabel('Вес признака')\n",
    "plt.show()"
   ]
  },
  {
   "cell_type": "markdown",
   "id": "bc60cd21",
   "metadata": {},
   "source": [
    "# Tensorflow"
   ]
  },
  {
   "cell_type": "code",
   "execution_count": null,
   "id": "f23b3d5b",
   "metadata": {},
   "outputs": [],
   "source": []
  }
 ],
 "metadata": {
  "kernelspec": {
   "display_name": "Python 3 (ipykernel)",
   "language": "python",
   "name": "python3"
  },
  "language_info": {
   "codemirror_mode": {
    "name": "ipython",
    "version": 3
   },
   "file_extension": ".py",
   "mimetype": "text/x-python",
   "name": "python",
   "nbconvert_exporter": "python",
   "pygments_lexer": "ipython3",
   "version": "3.10.7"
  },
  "toc": {
   "base_numbering": 1,
   "nav_menu": {},
   "number_sections": true,
   "sideBar": true,
   "skip_h1_title": false,
   "title_cell": "Table of Contents",
   "title_sidebar": "Contents",
   "toc_cell": false,
   "toc_position": {
    "height": "calc(100% - 180px)",
    "left": "10px",
    "top": "150px",
    "width": "303.837px"
   },
   "toc_section_display": true,
   "toc_window_display": false
  }
 },
 "nbformat": 4,
 "nbformat_minor": 5
}
